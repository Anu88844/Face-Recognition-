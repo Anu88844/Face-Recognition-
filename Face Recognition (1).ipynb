{
 "cells": [
  {
   "cell_type": "markdown",
   "id": "33af2548-7fd2-4748-8ac9-9d74f3e58a76",
   "metadata": {},
   "source": [
    "Adding cascade"
   ]
  },
  {
   "cell_type": "code",
   "execution_count": 16,
   "id": "c6fc2e56-f034-43c4-b47c-deb061648578",
   "metadata": {
    "tags": []
   },
   "outputs": [],
   "source": [
    "import cv2\n",
    "faceCascade= cv2.CascadeClassifier(\"haarcascade_frontalface_default.xml\")"
   ]
  },
  {
   "cell_type": "markdown",
   "id": "c7ba64d9-2e66-4541-9dcb-4ca17d8e7e35",
   "metadata": {},
   "source": [
    "READING, converting to gray scale image displaying  the image "
   ]
  },
  {
   "cell_type": "code",
   "execution_count": 17,
   "id": "fc364ad3-53ed-46d9-90e4-deb1cba99a96",
   "metadata": {
    "tags": []
   },
   "outputs": [],
   "source": [
    "img = cv2.imread('9724641685_6093b73b64_b.jpg')\n",
    "imgGray = cv2.cvtColor(img,cv2.COLOR_BGR2GRAY)"
   ]
  },
  {
   "cell_type": "markdown",
   "id": "d6fb35f0-6553-4bf1-9d9d-00e96df79a0f",
   "metadata": {
    "tags": []
   },
   "source": [
    "Reading the face in the image"
   ]
  },
  {
   "cell_type": "code",
   "execution_count": 18,
   "id": "e9b40f11-907b-4761-912b-b2b76d4acd30",
   "metadata": {
    "tags": []
   },
   "outputs": [],
   "source": [
    "faces = faceCascade.detectMultiScale(imgGray,1.1,4)"
   ]
  },
  {
   "cell_type": "markdown",
   "id": "b97f1a2b-351f-4bbd-9324-a1aa9aee7b47",
   "metadata": {},
   "source": [
    "Creating bounding box"
   ]
  },
  {
   "cell_type": "code",
   "execution_count": 19,
   "id": "509f8384-3395-4eab-9109-88e0900d9eae",
   "metadata": {
    "tags": []
   },
   "outputs": [],
   "source": [
    "for (x,y,w,h) in faces:\n",
    "    cv2.rectangle(img,(x,y),(x+w,y+h),(255,0,0),2)\n"
   ]
  },
  {
   "cell_type": "markdown",
   "id": "7bffe88f-34e1-4b27-bb0e-3634f66b57e7",
   "metadata": {},
   "source": [
    "output"
   ]
  },
  {
   "cell_type": "code",
   "execution_count": 20,
   "id": "3c4382b0-d2e4-4737-80c8-79a12f1c5930",
   "metadata": {
    "tags": []
   },
   "outputs": [
    {
     "data": {
      "text/plain": [
       "-1"
      ]
     },
     "execution_count": 20,
     "metadata": {},
     "output_type": "execute_result"
    }
   ],
   "source": [
    "cv2.imshow(\"Face Recognition \", img)\n",
    "cv2.waitKey(0)\n",
    "\n",
    "cv2.imshow(\"Face Recognition Gray\", imgGray)\n",
    "cv2.waitKey(0)\n"
   ]
  },
  {
   "cell_type": "code",
   "execution_count": null,
   "id": "c18603a0-6d65-4c70-96de-e1606cd13d9d",
   "metadata": {},
   "outputs": [],
   "source": []
  }
 ],
 "metadata": {
  "kernelspec": {
   "display_name": "Python 3 (ipykernel)",
   "language": "python",
   "name": "python3"
  },
  "language_info": {
   "codemirror_mode": {
    "name": "ipython",
    "version": 3
   },
   "file_extension": ".py",
   "mimetype": "text/x-python",
   "name": "python",
   "nbconvert_exporter": "python",
   "pygments_lexer": "ipython3",
   "version": "3.11.5"
  }
 },
 "nbformat": 4,
 "nbformat_minor": 5
}
